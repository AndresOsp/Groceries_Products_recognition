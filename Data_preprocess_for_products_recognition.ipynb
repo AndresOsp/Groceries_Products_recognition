{
 "cells": [
  {
   "cell_type": "markdown",
   "metadata": {},
   "source": [
    "# Download and format dataset notebook\n",
    "\n",
    "## Grocery products recognition\n",
    "\n",
    "Hello and welcome to this notebook. \n",
    "\n",
    "This notebook trains a YOLOv2 algorithm in order to localize the grocery products in the supermarket shell.\n",
    "\n",
    "The following dataset is used to train this CNN:\n",
    "[Grocery Store dataset](https://www.amazon.de/clouddrive/share/J3OaZMNnhBpKG28mAfs5CqTgreQxFCY8uENGaIk7H3s?_encoding=UTF8&mgh=1&ref_=cd_ph_share_link_copy).\n",
    "\n",
    "This dataset was annotated in the work by [George, Marian and Floerkemeier](http://vision.disi.unibo.it/index.php?option=com_content&view=article&id=111&catid=78). (There is only 76 images annotated.)\n",
    "\n",
    "The Yolo (You Only Look Once) algorithm is presented in the following papers:\n",
    "* Redmon et al., 2016 (https://arxiv.org/abs/1506.02640) \n",
    "* Redmon and Farhadi, 2016 (https://arxiv.org/abs/1612.08242).\n",
    "\n",
    "The yolo algorithm was originally tested in [Darknet]( https://pjreddie.com/darknet). This algorithm has been implemented in python for several machine-learning frameworks. This work is based in the [YAD2K]( https://github.com/allanzelener/YAD2K) implementation for Keras and Tensorflow.\n",
    "\n",
    "#### This notebook will guide you in order put in format the data for training"
   ]
  },
  {
   "cell_type": "markdown",
   "metadata": {},
   "source": [
    "Libraries:"
   ]
  },
  {
   "cell_type": "code",
   "execution_count": 1,
   "metadata": {
    "collapsed": true
   },
   "outputs": [],
   "source": [
    "import os\n",
    "import pandas as pd\n",
    "import numpy as np\n",
    "import wget\n",
    "import zipfile\n",
    "from matplotlib.pyplot import imshow\n",
    "\n",
    "from PIL import Image, ImageDraw\n",
    "%matplotlib inline"
   ]
  },
  {
   "cell_type": "markdown",
   "metadata": {},
   "source": [
    "Download the annotations from [George, Marian and Floerkemeier](http://vision.disi.unibo.it/index.php?option=com_content&view=article&id=111&catid=78)"
   ]
  },
  {
   "cell_type": "code",
   "execution_count": 2,
   "metadata": {
    "collapsed": true
   },
   "outputs": [],
   "source": [
    "# download the dataset \n",
    "my_dataset = \"Dataset\"\n",
    "\n",
    "if not os.path.isdir(my_dataset) :\n",
    "    file_path=wget.download('http://vision.deis.unibo.it/joomla/images/research/Product-recognition/PlanogramDataset.zip')\n",
    "    with zipfile.ZipFile(file_path,\"r\") as zip_ref:\n",
    "        zip_ref.extractall()\n",
    "    os.rename(\"Planogram Dataset\",\"Dataset\")\n",
    "    os.remove(file_path)\n",
    "    #correct error in the dataset\n",
    "    file_path='Dataset/annotations/s4_46.csv'\n",
    "    df = pd.read_csv(file_path)\n",
    "    df.drop(df.index[10],inplace=True)\n",
    "    df.to_csv(file_path)"
   ]
  },
  {
   "cell_type": "markdown",
   "metadata": {
    "collapsed": true
   },
   "source": [
    "#### Please download and extract the dataset!!\n",
    "\n",
    "Please download and extract the dataset from [Grocery Store dataset](https://www.amazon.de/clouddrive/share/J3OaZMNnhBpKG28mAfs5CqTgreQxFCY8uENGaIk7H3s?_encoding=UTF8&mgh=1&ref_=cd_ph_share_link_copy)."
   ]
  },
  {
   "cell_type": "code",
   "execution_count": 3,
   "metadata": {
    "collapsed": true
   },
   "outputs": [],
   "source": [
    "my_dataset = \"Grocery_products\"\n",
    "if not os.path.isdir(my_dataset) :\n",
    "    print('Please download and extract the dataset!!')"
   ]
  },
  {
   "cell_type": "code",
   "execution_count": 4,
   "metadata": {
    "collapsed": true
   },
   "outputs": [],
   "source": [
    "def corners_to_yolo_boxes(annotations,im_size):\n",
    "    \"\"\"Convert bounding box corners to YOLO box style.\"\"\"\n",
    "    \n",
    "    df = pd.read_csv(annotations,header=None,names=['path_image','xmin','ymin','xmax','ymax'])\n",
    "    \n",
    "    dw = 1./im_size[1]\n",
    "    dh = 1./im_size[0]\n",
    "\n",
    "    df['box_width'] = dw*(df.xmax-df.xmin)\n",
    "    df['box_height'] = dh*(df.ymax-df.ymin)\n",
    "    df['x_center'] = dw*((df.xmax+df.xmin)/2)\n",
    "    df['y_center'] = dh*((df.ymax+df.ymin)/2)\n",
    "    df['class']=0\n",
    "    \n",
    "    df.drop(['path_image','xmin','ymin','xmax','ymax'],axis=1,inplace=True)\n",
    "\n",
    "    df = df[['x_center', 'y_center', 'box_width', 'box_height','class']]\n",
    "\n",
    "    return df"
   ]
  },
  {
   "cell_type": "markdown",
   "metadata": {},
   "source": [
    "The folloing function creates the txt files containing the paths to the images and boxes"
   ]
  },
  {
   "cell_type": "code",
   "execution_count": 5,
   "metadata": {
    "collapsed": true
   },
   "outputs": [],
   "source": [
    "def read_annotations_and_create_list():\n",
    "    \"\"\"\n",
    "    Read the annotations and create the list of ellements to train.\n",
    "    This function creates the files containing the paths to the images and annotations in yolo format\n",
    "    This fuction is spatialy desing for the \"Grocery products recognition\" project\n",
    "    \"\"\"\n",
    "    yolo_annotations = 'yolo_annotations'\n",
    "    path_annotations = 'Dataset/annotations'\n",
    "    path_dataset = \"Grocery_products/Testing/\"\n",
    "    \n",
    "    boxes_path='model_data/boxes_path.txt'\n",
    "    images_path='model_data/images_path.txt'\n",
    "    \n",
    "    if not os.path.exists(yolo_annotations):\n",
    "        os.makedirs(yolo_annotations)\n",
    "    \n",
    "    for root, dirs, files in os.walk(path_annotations):\n",
    "        print(\"Done\")\n",
    "        \n",
    "    list_csv=[root + \"/\" + name for name in files]\n",
    "    \n",
    "    file_annotations = open(boxes_path,'w') \n",
    "    file_images      = open(images_path,'w') \n",
    "    \n",
    "    boxes = []\n",
    "    images_list = []\n",
    "      \n",
    "    for annotations in list_csv:\n",
    "\n",
    "        temporal=annotations.split('/')[-1].split('.')[0].split('_')\n",
    "        img_path=path_dataset+temporal[0].replace('s','store')+'/images/'+temporal[1]+'.jpg'\n",
    "        images_list.append(img_path)\n",
    "        \n",
    "        annotations_path= yolo_annotations+'/'+annotations.split('/')[-1].split('.')[0]+'.txt'\n",
    "\n",
    "        im = np.array(Image.open(img_path), dtype=np.uint8)\n",
    "       \n",
    "        a,b,c=im.shape \n",
    "        w= int(a)\n",
    "        h= int(b)\n",
    "        df=corners_to_yolo_boxes(annotations,(w,h))\n",
    "        boxes.append(df.as_matrix())\n",
    "               \n",
    "        df.to_csv(annotations_path, header=None, index=None, sep=' ', mode='w')\n",
    "        \n",
    "        file_annotations.write(annotations_path+\"\\n\")\n",
    "        file_images.write(img_path+\"\\n\")\n",
    "        \n",
    "        \n",
    "    file_annotations.close() \n",
    "    file_images.close()\n",
    "    \n",
    "    return boxes_path,images_path"
   ]
  },
  {
   "cell_type": "code",
   "execution_count": 6,
   "metadata": {},
   "outputs": [
    {
     "name": "stdout",
     "output_type": "stream",
     "text": [
      "Done\n"
     ]
    }
   ],
   "source": [
    "boxes_path, images_path= read_annotations_and_create_list()"
   ]
  }
 ],
 "metadata": {
  "kernelspec": {
   "display_name": "Python 3",
   "language": "python",
   "name": "python3"
  },
  "language_info": {
   "codemirror_mode": {
    "name": "ipython",
    "version": 3
   },
   "file_extension": ".py",
   "mimetype": "text/x-python",
   "name": "python",
   "nbconvert_exporter": "python",
   "pygments_lexer": "ipython3",
   "version": "3.6.2"
  }
 },
 "nbformat": 4,
 "nbformat_minor": 2
}
